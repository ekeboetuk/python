{
 "cells": [
  {
   "cell_type": "code",
   "execution_count": 1,
   "metadata": {},
   "outputs": [
    {
     "name": "stdout",
     "output_type": "stream",
     "text": [
      "  0 September 21, 2018 ₦    1,000.00 Remnant From SpeedBump Appreciation ₦        0.00                                ₦    1,000.00\n",
      "  1 November 18, 2018 ₦    1,500.00 Donation From Aniefiok In Liu Of Joining The Association ₦        0.00                                ₦    2,500.00\n",
      "  2 November 18, 2018 ₦    1,400.00 Monthly Dues November 2018     ₦        0.00                                ₦    3,900.00\n",
      "  3 November 18, 2018 ₦   30,000.00 Contribution Towards End Of Year Celebration ₦        0.00                                ₦   33,900.00\n",
      "  4 December 06, 2018 ₦    6,000.00 Contribution Toward's Aniefiok Support ₦    6,000.00  Aniefiok's Father Burial Support ₦   33,900.00\n",
      "  5 December 06, 2018 ₦      500.00 Money From Akaka On Aniefiok's Friends Night ₦        0.00                                ₦   34,400.00\n",
      "  6 December 14, 2018 ₦      500.00 Contribution Toward's Aniefiok Support ₦        0.00                                ₦   34,900.00\n",
      "  7 December 15, 2018 ₦        0.00                                ₦   26,300.00  End Of Year Party Expenses    ₦    8,600.00\n",
      "  8 December 27, 2018 ₦    2,000.00  Support From Evang. Asangausung Ukpe ₦        0.00                                ₦   10,600.00\n",
      "  9 January 20, 2019 ₦    2,150.00 Monthly Dues January 2019      ₦        0.00                                ₦   12,750.00\n",
      " 10 February 17, 2019 ₦    2,100.00 Monthly Dues February 2019     ₦        0.00                                ₦   14,850.00\n",
      " 11 March 23, 2019  ₦        0.00                                ₦    4,000.00  Welfare Towards Member's (Idongesit Meyen) New Born Baby ₦   10,850.00\n",
      " 12 March 24, 2019  ₦    1,750.00 Monthly Dues March 2019        ₦        0.00                                ₦   12,600.00\n",
      " 13 April 21, 2019  ₦    1,400.00 Monthly Dues April 2019        ₦        0.00                                ₦        0.00\n",
      " 14 April 26, 2019  ₦    1,000.00  Membership Interest Declaration By God'sgift Godwin Edet ₦        0.00                                ₦   13,600.00\n",
      " 15 May 02, 2019    ₦        0.00                                ₦    2,000.00  Visitation To Jacob Ndah On Ill Health ₦   11,600.00\n",
      " 16 May 19, 2019    ₦    1,000.00 Monthly Dues May 2019          ₦        0.00                                ₦   12,600.00\n",
      " 17 June 23, 2019   ₦      900.00 Monthly Dues June 2019         ₦        0.00                                ₦   13,500.00\n",
      " 18 July 21, 2019   ₦      750.00 Monthly Dues July 2019         ₦        0.00                                ₦   14,250.00\n",
      " 19 August 05, 2019 ₦        0.00                                ₦      600.00  Approved For Circular Dispatch ₦   13,650.00\n",
      " 20 August 11, 2019 ₦    1,500.00 Monthly Dues August 2019       ₦        0.00                                ₦   15,150.00\n",
      " 21 September 08, 2019 ₦      600.00 Monthly Dues September 2019    ₦        0.00                                ₦   15,750.00\n",
      " 22 October 13, 2019 ₦    1,200.00 Monthly Dues October 2019      ₦        0.00                                ₦   16,950.00\n",
      " 23 October 24, 2019 ₦        0.00                                ₦      300.00  Approved For Circular Dispatch ₦   16,650.00\n",
      " 24 November 07, 2019 ₦        0.00                                ₦      200.00  Approved For Circular Dispatch ₦   16,450.00\n",
      " 25 November 10, 2019 ₦      300.00 Monthly Dues November 2019     ₦        0.00                                ₦   16,750.00\n",
      " 26 November 10, 2019 ₦   33,500.00  End of Year Party Contribution ₦        0.00                                ₦   50,250.00\n",
      " 27 December 21, 2019 ₦        0.00                                ₦   38,200.00  End Of Year Party Expenses    ₦   12,050.00\n",
      "Done\n"
     ]
    }
   ],
   "source": [
    "import datetime as dt\n",
    "from re import sub\n",
    "import csv\n",
    "\n",
    "with open('zbar_acct_stmt.csv', encoding='utf-8', newline='') as zas:\n",
    "    reader = enumerate(csv.reader(zas))\n",
    "    zas.readline()\n",
    "    for i, row in reader:\n",
    "        #print(i, row)\n",
    "        trans_date = dt.datetime.strptime(row[0],'%A, %d %B %Y').date()\n",
    "        income_str = (row[1].replace('₦','').replace(',','')).strip()\n",
    "        income = float(income_str or 0)\n",
    "        inc_desc = row[2]\n",
    "        expense_str = (row[3].replace('₦','').replace(',','')).strip()\n",
    "        expense = float(expense_str or 0)\n",
    "        exp_desc = row[4]\n",
    "        bbf_str =  (row[5].replace('₦','').replace(',','')).strip()\n",
    "        bbf = float(bbf_str or 0)\n",
    "        trans_date = f'{trans_date:%B %d, %Y}'\n",
    "        print(f'{i:>3}', f'{trans_date:<15}', f'₦{income:>12,.2f}', f'{inc_desc:<30}', f'₦{expense:>12,.2f}', f'{exp_desc:<30}', f'₦{bbf:>12,.2f}')\n",
    "\n",
    "print('Done')\n",
    "    \n",
    "\n"
   ]
  },
  {
   "cell_type": "code",
   "execution_count": null,
   "metadata": {},
   "outputs": [],
   "source": [
    "# "
   ]
  }
 ],
 "metadata": {
  "file_extension": ".py",
  "kernelspec": {
   "display_name": "Python 3",
   "language": "python",
   "name": "python3"
  },
  "language_info": {
   "codemirror_mode": {
    "name": "ipython",
    "version": 3
   },
   "file_extension": ".py",
   "mimetype": "text/x-python",
   "name": "python",
   "nbconvert_exporter": "python",
   "pygments_lexer": "ipython3",
   "version": "3.7.6"
  },
  "mimetype": "text/x-python",
  "name": "python",
  "npconvert_exporter": "python",
  "pygments_lexer": "ipython3",
  "version": 3
 },
 "nbformat": 4,
 "nbformat_minor": 2
}
